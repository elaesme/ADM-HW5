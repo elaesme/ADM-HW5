{
 "cells": [
  {
   "cell_type": "markdown",
   "metadata": {},
   "source": [
    "# Homework 5 - Explore California and Nevada with graphs"
   ]
  },
  {
   "cell_type": "code",
   "execution_count": 1,
   "metadata": {},
   "outputs": [],
   "source": [
    "import pandas as pd\n",
    "import numpy as np\n",
    "import networkx as nx\n",
    "from tqdm import tqdm "
   ]
  },
  {
   "cell_type": "code",
   "execution_count": 2,
   "metadata": {},
   "outputs": [],
   "source": [
    "from matplotlib import pyplot as plt\n",
    "import random\n",
    "import csv\n",
    "import sys"
   ]
  },
  {
   "cell_type": "markdown",
   "metadata": {},
   "source": [
    "Importing data from a .zip file"
   ]
  },
  {
   "cell_type": "code",
   "execution_count": 2,
   "metadata": {},
   "outputs": [],
   "source": [
    "df = pd.read_csv('C:\\\\Users\\\\lucas\\\\OneDrive\\\\Desktop\\\\ADM-HW5\\\\USA-road-d.CAL.gr.gz', compression='gzip', header=0, sep=',', quotechar='\"')\n",
    "#importing data directly from compressed file "
   ]
  },
  {
   "cell_type": "code",
   "execution_count": 3,
   "metadata": {},
   "outputs": [],
   "source": [
    "df = df[6:]  #taking only data we are looking for "
   ]
  },
  {
   "cell_type": "code",
   "execution_count": 4,
   "metadata": {},
   "outputs": [],
   "source": [
    "df.rename(columns = {'c 9th DIMACS Implementation Challenge: Shortest Paths':'arc'},inplace = True)"
   ]
  },
  {
   "cell_type": "code",
   "execution_count": 5,
   "metadata": {},
   "outputs": [
    {
     "data": {
      "text/html": [
       "<div>\n",
       "<style scoped>\n",
       "    .dataframe tbody tr th:only-of-type {\n",
       "        vertical-align: middle;\n",
       "    }\n",
       "\n",
       "    .dataframe tbody tr th {\n",
       "        vertical-align: top;\n",
       "    }\n",
       "\n",
       "    .dataframe thead th {\n",
       "        text-align: right;\n",
       "    }\n",
       "</style>\n",
       "<table border=\"1\" class=\"dataframe\">\n",
       "  <thead>\n",
       "    <tr style=\"text-align: right;\">\n",
       "      <th></th>\n",
       "      <th>arc</th>\n",
       "    </tr>\n",
       "  </thead>\n",
       "  <tbody>\n",
       "    <tr>\n",
       "      <th>6</th>\n",
       "      <td>a 1 1048577 456</td>\n",
       "    </tr>\n",
       "    <tr>\n",
       "      <th>7</th>\n",
       "      <td>a 1048577 1 456</td>\n",
       "    </tr>\n",
       "    <tr>\n",
       "      <th>8</th>\n",
       "      <td>a 2 1048578 2389</td>\n",
       "    </tr>\n",
       "    <tr>\n",
       "      <th>9</th>\n",
       "      <td>a 1048578 2 2389</td>\n",
       "    </tr>\n",
       "    <tr>\n",
       "      <th>10</th>\n",
       "      <td>a 3 1048579 358</td>\n",
       "    </tr>\n",
       "  </tbody>\n",
       "</table>\n",
       "</div>"
      ],
      "text/plain": [
       "                 arc\n",
       "6    a 1 1048577 456\n",
       "7    a 1048577 1 456\n",
       "8   a 2 1048578 2389\n",
       "9   a 1048578 2 2389\n",
       "10   a 3 1048579 358"
      ]
     },
     "execution_count": 5,
     "metadata": {},
     "output_type": "execute_result"
    }
   ],
   "source": [
    "df.head()"
   ]
  },
  {
   "cell_type": "code",
   "execution_count": 6,
   "metadata": {},
   "outputs": [],
   "source": [
    "list_df = df.values.tolist() #turning the dataframe into a list"
   ]
  },
  {
   "cell_type": "code",
   "execution_count": 7,
   "metadata": {},
   "outputs": [],
   "source": [
    "lis_df = []\n",
    "for i in list_df:\n",
    "    lis_df.append(list(map(int,(i[0].split())[1:])))\n",
    "#creating another list to use it in the function"
   ]
  },
  {
   "cell_type": "code",
   "execution_count": 8,
   "metadata": {},
   "outputs": [],
   "source": [
    "from collections import defaultdict\n",
    "\n",
    "link  = defaultdict(list)   #node with linked nodes\n",
    "weight = defaultdict(list)  #dictionary with weight converted into a list\n",
    "graph = lis_df              #list of node  \n",
    "\n",
    "for i in range(len(lis_df)):\n",
    "    id_node1 = graph[i][0]\n",
    "    id_node2 = graph[i][1]\n",
    "    w =graph[i][2] \n",
    "    \n",
    "    link[id_node1].append(id_node2)\n",
    "    \n",
    "    w_k = str(id_node1) +',' +(str(id_node2))\n",
    "    weight[w_k].append(w)"
   ]
  },
  {
   "cell_type": "code",
   "execution_count": 9,
   "metadata": {},
   "outputs": [],
   "source": [
    "def Find_Link(graph,v,weight,k):\n",
    "    distance = {}\n",
    "    for item in link.keys():\n",
    "        distance[item] = np.inf\n",
    "    distance[v] = 0\n",
    "    queue, output = [],[]\n",
    "    queue.append(v)\n",
    "    output.append(v)\n",
    "    connection = []\n",
    "\n",
    "    while queue:\n",
    "        v = queue[0]\n",
    "        queue.pop(0)\n",
    "        for u in link[v]:\n",
    "            w_k = str(v)+','+str(u)\n",
    "            if len(weight[w_k])>0:\n",
    "                if distance[u] > distance[v] + weight[w_k][0]:\n",
    "                    distance[u] = distance[v] + weight[w_k][0]\n",
    "                    if distance[u] != np.inf and distance[u] <= k:\n",
    "                        queue.append(u)\n",
    "                        output.append(u)\n",
    "                        connection.append(w_k)\n",
    "                    \n",
    "    return output,connection"
   ]
  },
  {
   "cell_type": "code",
   "execution_count": 10,
   "metadata": {},
   "outputs": [],
   "source": [
    "def WhichNode():\n",
    "    print('Which node do you want to check?')\n",
    "    n = int(input())\n",
    "    print('Which is tha maximum distance you want?')\n",
    "    t = int(input())\n",
    "    result = Find_Link(link,n,weight,t)\n",
    "    print(result)"
   ]
  },
  {
   "cell_type": "code",
   "execution_count": 11,
   "metadata": {},
   "outputs": [
    {
     "name": "stdout",
     "output_type": "stream",
     "text": [
      "Which node do you want to check?\n",
      "4\n",
      "Which is tha maximum distance you want?\n",
      "10000\n",
      "([4, 1049993, 1767, 1048577, 1785, 2588], ['4,1049993', '1049993,1767', '1767,1048577', '1767,1785', '1785,2588'])\n"
     ]
    }
   ],
   "source": [
    "WhichNode()"
   ]
  },
  {
   "cell_type": "markdown",
   "metadata": {},
   "source": [
    "## Frontend\n"
   ]
  },
  {
   "cell_type": "code",
   "execution_count": null,
   "metadata": {},
   "outputs": [],
   "source": [
    "#to go on we will print the previuos example"
   ]
  },
  {
   "cell_type": "code",
   "execution_count": 13,
   "metadata": {},
   "outputs": [
    {
     "data": {
      "text/plain": [
       "['4,1049993', '1049993,1767', '1767,1048577', '1767,1785', '1785,2588']"
      ]
     },
     "execution_count": 13,
     "metadata": {},
     "output_type": "execute_result"
    }
   ],
   "source": [
    "result = Find_Link(link,4,weight,10000)\n",
    "\n",
    "conn = result[1] \n",
    "conn"
   ]
  },
  {
   "cell_type": "code",
   "execution_count": 14,
   "metadata": {},
   "outputs": [],
   "source": [
    "G = nx.Graph()"
   ]
  },
  {
   "cell_type": "code",
   "execution_count": 15,
   "metadata": {},
   "outputs": [],
   "source": [
    "for i in conn:\n",
    "    k = list(map(int,(i.split(','))))\n",
    "    G.add_node(k[0])\n",
    "    G.add_node(k[1])\n",
    "    G.add_edge(k[0], k[1], weight = weight[i][0])"
   ]
  },
  {
   "cell_type": "code",
   "execution_count": 16,
   "metadata": {},
   "outputs": [],
   "source": [
    "import matplotlib.pyplot as plt"
   ]
  },
  {
   "cell_type": "code",
   "execution_count": 17,
   "metadata": {},
   "outputs": [
    {
     "name": "stderr",
     "output_type": "stream",
     "text": [
      "C:\\Users\\lucas\\Anaconda3\\lib\\site-packages\\networkx\\drawing\\nx_pylab.py:579: MatplotlibDeprecationWarning: \n",
      "The iterable function was deprecated in Matplotlib 3.1 and will be removed in 3.3. Use np.iterable instead.\n",
      "  if not cb.iterable(width):\n"
     ]
    },
    {
     "data": {
      "image/png": "[encoded data removed]",
      "text/plain": [
       "<Figure size 432x288 with 1 Axes>"
      ]
     },
     "metadata": {},
     "output_type": "display_data"
    }
   ],
   "source": [
    "elarge = [(u, v) for (u, v, d) in G.edges(data=True) if d['weight'] > 0.5]\n",
    "esmall = [(u, v) for (u, v, d) in G.edges(data=True) if d['weight'] <= 0.5]\n",
    "\n",
    "pos = nx.spring_layout(G)  # positions for all nodes\n",
    "\n",
    "# nodes\n",
    "nx.draw_networkx_nodes(G, pos, node_size=700)\n",
    "\n",
    "# edges\n",
    "nx.draw_networkx_edges(G, pos, edgelist=elarge,\n",
    "                       width=6)\n",
    "nx.draw_networkx_edges(G, pos, edgelist=esmall,\n",
    "                       width=6, alpha=0.5, edge_color='b', style='dashed')\n",
    "\n",
    "# labels\n",
    "nx.draw_networkx_labels(G, pos, font_size=20, font_family='sans-serif')\n",
    "\n",
    "plt.axis('off')\n",
    "plt.show()"
   ]
  },
  {
   "cell_type": "markdown",
   "metadata": {},
   "source": [
    "# 2"
   ]
  },
  {
   "cell_type": "code",
   "execution_count": 4,
   "metadata": {},
   "outputs": [
    {
     "data": {
      "text/html": [
       "<div>\n",
       "<style scoped>\n",
       "    .dataframe tbody tr th:only-of-type {\n",
       "        vertical-align: middle;\n",
       "    }\n",
       "\n",
       "    .dataframe tbody tr th {\n",
       "        vertical-align: top;\n",
       "    }\n",
       "\n",
       "    .dataframe thead th {\n",
       "        text-align: right;\n",
       "    }\n",
       "</style>\n",
       "<table border=\"1\" class=\"dataframe\">\n",
       "  <thead>\n",
       "    <tr style=\"text-align: right;\">\n",
       "      <th></th>\n",
       "      <th>Node1</th>\n",
       "      <th>Node2</th>\n",
       "      <th>traveldistance</th>\n",
       "    </tr>\n",
       "  </thead>\n",
       "  <tbody>\n",
       "    <tr>\n",
       "      <th>0</th>\n",
       "      <td>1</td>\n",
       "      <td>1048577</td>\n",
       "      <td>456</td>\n",
       "    </tr>\n",
       "    <tr>\n",
       "      <th>1</th>\n",
       "      <td>1048577</td>\n",
       "      <td>1</td>\n",
       "      <td>456</td>\n",
       "    </tr>\n",
       "    <tr>\n",
       "      <th>2</th>\n",
       "      <td>2</td>\n",
       "      <td>1048578</td>\n",
       "      <td>2389</td>\n",
       "    </tr>\n",
       "    <tr>\n",
       "      <th>3</th>\n",
       "      <td>1048578</td>\n",
       "      <td>2</td>\n",
       "      <td>2389</td>\n",
       "    </tr>\n",
       "    <tr>\n",
       "      <th>4</th>\n",
       "      <td>3</td>\n",
       "      <td>1048579</td>\n",
       "      <td>358</td>\n",
       "    </tr>\n",
       "  </tbody>\n",
       "</table>\n",
       "</div>"
      ],
      "text/plain": [
       "     Node1    Node2  traveldistance\n",
       "0        1  1048577             456\n",
       "1  1048577        1             456\n",
       "2        2  1048578            2389\n",
       "3  1048578        2            2389\n",
       "4        3  1048579             358"
      ]
     },
     "execution_count": 4,
     "metadata": {},
     "output_type": "execute_result"
    }
   ],
   "source": [
    "## read Distance data and create list\n",
    "with open('C:/Users/lucas/OneDrive/Desktop/ADM-HW5/USA-road-d.CAL.gr', 'r') as f:\n",
    "    distance_data = f.readlines()\n",
    "#create list\n",
    "distance_data = distance_data[7:len(distance_data)]\n",
    "distance_data = [list(map(int,j[2:-1].split())) for j in distance_data]\n",
    "\n",
    "#creat dataframe\n",
    "distance_df=pd.DataFrame(distance_data, columns= ['Node1', 'Node2', 'traveldistance'])\n",
    "distance_df.head()"
   ]
  },
  {
   "cell_type": "code",
   "execution_count": 5,
   "metadata": {},
   "outputs": [
    {
     "data": {
      "text/html": [
       "<div>\n",
       "<style scoped>\n",
       "    .dataframe tbody tr th:only-of-type {\n",
       "        vertical-align: middle;\n",
       "    }\n",
       "\n",
       "    .dataframe tbody tr th {\n",
       "        vertical-align: top;\n",
       "    }\n",
       "\n",
       "    .dataframe thead th {\n",
       "        text-align: right;\n",
       "    }\n",
       "</style>\n",
       "<table border=\"1\" class=\"dataframe\">\n",
       "  <thead>\n",
       "    <tr style=\"text-align: right;\">\n",
       "      <th></th>\n",
       "      <th>Node1</th>\n",
       "      <th>Node2</th>\n",
       "      <th>traveltime</th>\n",
       "    </tr>\n",
       "  </thead>\n",
       "  <tbody>\n",
       "    <tr>\n",
       "      <th>0</th>\n",
       "      <td>1</td>\n",
       "      <td>1048577</td>\n",
       "      <td>1139</td>\n",
       "    </tr>\n",
       "    <tr>\n",
       "      <th>1</th>\n",
       "      <td>1048577</td>\n",
       "      <td>1</td>\n",
       "      <td>1139</td>\n",
       "    </tr>\n",
       "    <tr>\n",
       "      <th>2</th>\n",
       "      <td>2</td>\n",
       "      <td>1048578</td>\n",
       "      <td>5972</td>\n",
       "    </tr>\n",
       "    <tr>\n",
       "      <th>3</th>\n",
       "      <td>1048578</td>\n",
       "      <td>2</td>\n",
       "      <td>5972</td>\n",
       "    </tr>\n",
       "    <tr>\n",
       "      <th>4</th>\n",
       "      <td>3</td>\n",
       "      <td>1048579</td>\n",
       "      <td>895</td>\n",
       "    </tr>\n",
       "  </tbody>\n",
       "</table>\n",
       "</div>"
      ],
      "text/plain": [
       "     Node1    Node2  traveltime\n",
       "0        1  1048577        1139\n",
       "1  1048577        1        1139\n",
       "2        2  1048578        5972\n",
       "3  1048578        2        5972\n",
       "4        3  1048579         895"
      ]
     },
     "execution_count": 5,
     "metadata": {},
     "output_type": "execute_result"
    }
   ],
   "source": [
    "## read Travel time  data and create list    \n",
    "with open('C:/Users/lucas/OneDrive/Desktop/ADM-HW5/USA-road-t.CAL.gr', 'r') as f:\n",
    "    times_data = f.readlines()\n",
    "    \n",
    "#create list  \n",
    "times_data = times_data[7:len(times_data)]\n",
    "times_data = [list(map(int,j[2:-1].split())) for j in times_data]\n",
    "\n",
    "#creat dataframe\n",
    "time_df=pd.DataFrame(times_data, columns= ['Node1', 'Node2', 'traveltime'])\n",
    "time_df.head()"
   ]
  },
  {
   "cell_type": "code",
   "execution_count": 6,
   "metadata": {},
   "outputs": [
    {
     "data": {
      "text/html": [
       "<div>\n",
       "<style scoped>\n",
       "    .dataframe tbody tr th:only-of-type {\n",
       "        vertical-align: middle;\n",
       "    }\n",
       "\n",
       "    .dataframe tbody tr th {\n",
       "        vertical-align: top;\n",
       "    }\n",
       "\n",
       "    .dataframe thead th {\n",
       "        text-align: right;\n",
       "    }\n",
       "</style>\n",
       "<table border=\"1\" class=\"dataframe\">\n",
       "  <thead>\n",
       "    <tr style=\"text-align: right;\">\n",
       "      <th></th>\n",
       "      <th>node</th>\n",
       "      <th>latitude</th>\n",
       "      <th>longitude</th>\n",
       "    </tr>\n",
       "  </thead>\n",
       "  <tbody>\n",
       "    <tr>\n",
       "      <th>0</th>\n",
       "      <td>1</td>\n",
       "      <td>-114315309</td>\n",
       "      <td>34133550</td>\n",
       "    </tr>\n",
       "    <tr>\n",
       "      <th>1</th>\n",
       "      <td>2</td>\n",
       "      <td>-114223946</td>\n",
       "      <td>34176221</td>\n",
       "    </tr>\n",
       "    <tr>\n",
       "      <th>2</th>\n",
       "      <td>3</td>\n",
       "      <td>-114307299</td>\n",
       "      <td>34148791</td>\n",
       "    </tr>\n",
       "    <tr>\n",
       "      <th>3</th>\n",
       "      <td>4</td>\n",
       "      <td>-114318765</td>\n",
       "      <td>34138889</td>\n",
       "    </tr>\n",
       "    <tr>\n",
       "      <th>4</th>\n",
       "      <td>5</td>\n",
       "      <td>-114347300</td>\n",
       "      <td>34042614</td>\n",
       "    </tr>\n",
       "  </tbody>\n",
       "</table>\n",
       "</div>"
      ],
      "text/plain": [
       "   node   latitude  longitude\n",
       "0     1 -114315309   34133550\n",
       "1     2 -114223946   34176221\n",
       "2     3 -114307299   34148791\n",
       "3     4 -114318765   34138889\n",
       "4     5 -114347300   34042614"
      ]
     },
     "execution_count": 6,
     "metadata": {},
     "output_type": "execute_result"
    }
   ],
   "source": [
    "## read Coordinate  data and create list        \n",
    "with open('C:/Users/lucas/OneDrive/Desktop/ADM-HW5/USA-road-d.CAL.co', 'r') as f: \n",
    "    coordinates_data = f.readlines()\n",
    "    \n",
    "#create list      \n",
    "coordinates_data = coordinates_data[7:len(coordinates_data)]\n",
    "coordinates_data = [list(map(int,j[2:-1].split())) for j in coordinates_data]\n",
    "\n",
    "#creat dataframe\n",
    "coordinates_df=pd.DataFrame(coordinates_data, columns= ['node', 'latitude', 'longitude'])\n",
    "coordinates_df.head()"
   ]
  },
  {
   "cell_type": "code",
   "execution_count": 7,
   "metadata": {},
   "outputs": [
    {
     "data": {
      "text/html": [
       "<div>\n",
       "<style scoped>\n",
       "    .dataframe tbody tr th:only-of-type {\n",
       "        vertical-align: middle;\n",
       "    }\n",
       "\n",
       "    .dataframe tbody tr th {\n",
       "        vertical-align: top;\n",
       "    }\n",
       "\n",
       "    .dataframe thead th {\n",
       "        text-align: right;\n",
       "    }\n",
       "</style>\n",
       "<table border=\"1\" class=\"dataframe\">\n",
       "  <thead>\n",
       "    <tr style=\"text-align: right;\">\n",
       "      <th></th>\n",
       "      <th>Node1</th>\n",
       "      <th>Node2</th>\n",
       "      <th>traveldistance</th>\n",
       "      <th>traveltime</th>\n",
       "      <th>latitude_1</th>\n",
       "      <th>longitude_1</th>\n",
       "      <th>latitude_2</th>\n",
       "      <th>longitude_2</th>\n",
       "    </tr>\n",
       "  </thead>\n",
       "  <tbody>\n",
       "    <tr>\n",
       "      <th>0</th>\n",
       "      <td>1</td>\n",
       "      <td>1048577</td>\n",
       "      <td>456</td>\n",
       "      <td>1139</td>\n",
       "      <td>-114315049</td>\n",
       "      <td>34133899</td>\n",
       "      <td>-114315309</td>\n",
       "      <td>34133550</td>\n",
       "    </tr>\n",
       "    <tr>\n",
       "      <th>1</th>\n",
       "      <td>1048577</td>\n",
       "      <td>1</td>\n",
       "      <td>456</td>\n",
       "      <td>1139</td>\n",
       "      <td>-114315309</td>\n",
       "      <td>34133550</td>\n",
       "      <td>-114315049</td>\n",
       "      <td>34133899</td>\n",
       "    </tr>\n",
       "    <tr>\n",
       "      <th>2</th>\n",
       "      <td>2</td>\n",
       "      <td>1048578</td>\n",
       "      <td>2389</td>\n",
       "      <td>5972</td>\n",
       "      <td>-114225874</td>\n",
       "      <td>34177662</td>\n",
       "      <td>-114223946</td>\n",
       "      <td>34176221</td>\n",
       "    </tr>\n",
       "    <tr>\n",
       "      <th>3</th>\n",
       "      <td>1048578</td>\n",
       "      <td>2</td>\n",
       "      <td>2389</td>\n",
       "      <td>5972</td>\n",
       "      <td>-114223946</td>\n",
       "      <td>34176221</td>\n",
       "      <td>-114225874</td>\n",
       "      <td>34177662</td>\n",
       "    </tr>\n",
       "    <tr>\n",
       "      <th>4</th>\n",
       "      <td>3</td>\n",
       "      <td>1048579</td>\n",
       "      <td>358</td>\n",
       "      <td>895</td>\n",
       "      <td>-114307643</td>\n",
       "      <td>34148640</td>\n",
       "      <td>-114307299</td>\n",
       "      <td>34148791</td>\n",
       "    </tr>\n",
       "  </tbody>\n",
       "</table>\n",
       "</div>"
      ],
      "text/plain": [
       "     Node1    Node2  traveldistance  traveltime  latitude_1  longitude_1  \\\n",
       "0        1  1048577             456        1139  -114315049     34133899   \n",
       "1  1048577        1             456        1139  -114315309     34133550   \n",
       "2        2  1048578            2389        5972  -114225874     34177662   \n",
       "3  1048578        2            2389        5972  -114223946     34176221   \n",
       "4        3  1048579             358         895  -114307643     34148640   \n",
       "\n",
       "   latitude_2  longitude_2  \n",
       "0  -114315309     34133550  \n",
       "1  -114315049     34133899  \n",
       "2  -114223946     34176221  \n",
       "3  -114225874     34177662  \n",
       "4  -114307299     34148791  "
      ]
     },
     "execution_count": 7,
     "metadata": {},
     "output_type": "execute_result"
    }
   ],
   "source": [
    "#join dataframes\n",
    "time_distance = pd.merge(left=distance_df, right=time_df, left_on=['Node1', 'Node2'], right_on=['Node1', 'Node2'], how='inner')\n",
    "\n",
    "new_df = pd.merge(left=time_distance, right=coordinates_df, left_on='Node2', \n",
    "                                     right_on='node', how='left', suffixes=('_1','_2'))\n",
    "new_df = pd.merge(left=new_df, right=coordinates_df, left_on='Node1', right_on='node', \n",
    "                           how='left', suffixes=('_1','_2'))\n",
    "del new_df['node_1'], new_df['node_2'] \n",
    "\n",
    "new_df.head()"
   ]
  },
  {
   "cell_type": "markdown",
   "metadata": {},
   "source": [
    "## 2.2 Find the smartest Network"
   ]
  },
  {
   "cell_type": "code",
   "execution_count": 8,
   "metadata": {},
   "outputs": [],
   "source": [
    "# choose input nodes\n",
    "#input_nodes=input('please enter number from1 to 1800000=   ')\n",
    "input_nodes=[10,6,100]"
   ]
  },
  {
   "cell_type": "code",
   "execution_count": 9,
   "metadata": {},
   "outputs": [
    {
     "data": {
      "text/html": [
       "<div>\n",
       "<style scoped>\n",
       "    .dataframe tbody tr th:only-of-type {\n",
       "        vertical-align: middle;\n",
       "    }\n",
       "\n",
       "    .dataframe tbody tr th {\n",
       "        vertical-align: top;\n",
       "    }\n",
       "\n",
       "    .dataframe thead th {\n",
       "        text-align: right;\n",
       "    }\n",
       "</style>\n",
       "<table border=\"1\" class=\"dataframe\">\n",
       "  <thead>\n",
       "    <tr style=\"text-align: right;\">\n",
       "      <th></th>\n",
       "      <th>node</th>\n",
       "      <th>latitude</th>\n",
       "      <th>longitude</th>\n",
       "    </tr>\n",
       "  </thead>\n",
       "  <tbody>\n",
       "    <tr>\n",
       "      <th>4</th>\n",
       "      <td>5</td>\n",
       "      <td>-114347300</td>\n",
       "      <td>34042614</td>\n",
       "    </tr>\n",
       "    <tr>\n",
       "      <th>5</th>\n",
       "      <td>6</td>\n",
       "      <td>-114347162</td>\n",
       "      <td>34058931</td>\n",
       "    </tr>\n",
       "    <tr>\n",
       "      <th>7</th>\n",
       "      <td>8</td>\n",
       "      <td>-114347268</td>\n",
       "      <td>34028261</td>\n",
       "    </tr>\n",
       "    <tr>\n",
       "      <th>8</th>\n",
       "      <td>9</td>\n",
       "      <td>-114340613</td>\n",
       "      <td>34042519</td>\n",
       "    </tr>\n",
       "    <tr>\n",
       "      <th>9</th>\n",
       "      <td>10</td>\n",
       "      <td>-114324855</td>\n",
       "      <td>34042664</td>\n",
       "    </tr>\n",
       "  </tbody>\n",
       "</table>\n",
       "</div>"
      ],
      "text/plain": [
       "   node   latitude  longitude\n",
       "4     5 -114347300   34042614\n",
       "5     6 -114347162   34058931\n",
       "7     8 -114347268   34028261\n",
       "8     9 -114340613   34042519\n",
       "9    10 -114324855   34042664"
      ]
     },
     "execution_count": 9,
     "metadata": {},
     "output_type": "execute_result"
    }
   ],
   "source": [
    "#choose threshold and parts of all nodes\n",
    "input_data=coordinates_df[[i in input_nodes for i in coordinates_df['node'].values]]\n",
    "threshold_minmax=input_data.agg(['min','max'])\n",
    "treshhold_info = coordinates_df[(coordinates_df['latitude'] >= (threshold_minmax.at[\"min\",\"latitude\"]-50000)) & \n",
    "                  (coordinates_df['latitude'] <= (threshold_minmax.at[\"max\",\"latitude\"]+50000)) & \n",
    "                  (coordinates_df['longitude'] >= (threshold_minmax.at[\"min\",\"longitude\"]-50000)) & \n",
    "                  (coordinates_df['longitude'] <= (threshold_minmax.at[\"max\",\"longitude\"]+50000))]\n",
    "treshhold_info.head()"
   ]
  },
  {
   "cell_type": "code",
   "execution_count": 10,
   "metadata": {},
   "outputs": [
    {
     "data": {
      "text/html": [
       "<div>\n",
       "<style scoped>\n",
       "    .dataframe tbody tr th:only-of-type {\n",
       "        vertical-align: middle;\n",
       "    }\n",
       "\n",
       "    .dataframe tbody tr th {\n",
       "        vertical-align: top;\n",
       "    }\n",
       "\n",
       "    .dataframe thead th {\n",
       "        text-align: right;\n",
       "    }\n",
       "</style>\n",
       "<table border=\"1\" class=\"dataframe\">\n",
       "  <thead>\n",
       "    <tr style=\"text-align: right;\">\n",
       "      <th></th>\n",
       "      <th>Node1</th>\n",
       "      <th>Node2</th>\n",
       "      <th>traveldistance</th>\n",
       "      <th>traveltime</th>\n",
       "      <th>latitude_1</th>\n",
       "      <th>longitude_1</th>\n",
       "      <th>latitude_2</th>\n",
       "      <th>longitude_2</th>\n",
       "    </tr>\n",
       "  </thead>\n",
       "  <tbody>\n",
       "    <tr>\n",
       "      <th>8</th>\n",
       "      <td>5</td>\n",
       "      <td>6</td>\n",
       "      <td>18133</td>\n",
       "      <td>45332</td>\n",
       "      <td>-114347162</td>\n",
       "      <td>34058931</td>\n",
       "      <td>-114347300</td>\n",
       "      <td>34042614</td>\n",
       "    </tr>\n",
       "    <tr>\n",
       "      <th>9</th>\n",
       "      <td>6</td>\n",
       "      <td>5</td>\n",
       "      <td>18133</td>\n",
       "      <td>45332</td>\n",
       "      <td>-114347300</td>\n",
       "      <td>34042614</td>\n",
       "      <td>-114347162</td>\n",
       "      <td>34058931</td>\n",
       "    </tr>\n",
       "    <tr>\n",
       "      <th>12</th>\n",
       "      <td>8</td>\n",
       "      <td>1048581</td>\n",
       "      <td>14944</td>\n",
       "      <td>37360</td>\n",
       "      <td>-114347287</td>\n",
       "      <td>34041709</td>\n",
       "      <td>-114347268</td>\n",
       "      <td>34028261</td>\n",
       "    </tr>\n",
       "    <tr>\n",
       "      <th>13</th>\n",
       "      <td>1048581</td>\n",
       "      <td>8</td>\n",
       "      <td>14944</td>\n",
       "      <td>37360</td>\n",
       "      <td>-114347268</td>\n",
       "      <td>34028261</td>\n",
       "      <td>-114347287</td>\n",
       "      <td>34041709</td>\n",
       "    </tr>\n",
       "    <tr>\n",
       "      <th>14</th>\n",
       "      <td>9</td>\n",
       "      <td>1048583</td>\n",
       "      <td>10049</td>\n",
       "      <td>25122</td>\n",
       "      <td>-114329701</td>\n",
       "      <td>34042645</td>\n",
       "      <td>-114340613</td>\n",
       "      <td>34042519</td>\n",
       "    </tr>\n",
       "  </tbody>\n",
       "</table>\n",
       "</div>"
      ],
      "text/plain": [
       "      Node1    Node2  traveldistance  traveltime  latitude_1  longitude_1  \\\n",
       "8         5        6           18133       45332  -114347162     34058931   \n",
       "9         6        5           18133       45332  -114347300     34042614   \n",
       "12        8  1048581           14944       37360  -114347287     34041709   \n",
       "13  1048581        8           14944       37360  -114347268     34028261   \n",
       "14        9  1048583           10049       25122  -114329701     34042645   \n",
       "\n",
       "    latitude_2  longitude_2  \n",
       "8   -114347300     34042614  \n",
       "9   -114347162     34058931  \n",
       "12  -114347268     34028261  \n",
       "13  -114347287     34041709  \n",
       "14  -114340613     34042519  "
      ]
     },
     "execution_count": 10,
     "metadata": {},
     "output_type": "execute_result"
    }
   ],
   "source": [
    "nides_list=list(treshhold_info['node'])\n",
    "adjacent_nodes = new_df[(new_df.Node1.isin(nides_list))&(new_df.Node2.isin(nides_list))]\n",
    "adjacent_nodes.head()"
   ]
  },
  {
   "cell_type": "code",
   "execution_count": 11,
   "metadata": {},
   "outputs": [
    {
     "data": {
      "text/html": [
       "<div>\n",
       "<style scoped>\n",
       "    .dataframe tbody tr th:only-of-type {\n",
       "        vertical-align: middle;\n",
       "    }\n",
       "\n",
       "    .dataframe tbody tr th {\n",
       "        vertical-align: top;\n",
       "    }\n",
       "\n",
       "    .dataframe thead th {\n",
       "        text-align: right;\n",
       "    }\n",
       "</style>\n",
       "<table border=\"1\" class=\"dataframe\">\n",
       "  <thead>\n",
       "    <tr style=\"text-align: right;\">\n",
       "      <th></th>\n",
       "      <th>Node1</th>\n",
       "      <th>Node2</th>\n",
       "      <th>traveldistance</th>\n",
       "    </tr>\n",
       "  </thead>\n",
       "  <tbody>\n",
       "    <tr>\n",
       "      <th>8</th>\n",
       "      <td>1</td>\n",
       "      <td>2</td>\n",
       "      <td>18133</td>\n",
       "    </tr>\n",
       "    <tr>\n",
       "      <th>9</th>\n",
       "      <td>2</td>\n",
       "      <td>1</td>\n",
       "      <td>18133</td>\n",
       "    </tr>\n",
       "    <tr>\n",
       "      <th>12</th>\n",
       "      <td>3</td>\n",
       "      <td>336</td>\n",
       "      <td>14944</td>\n",
       "    </tr>\n",
       "    <tr>\n",
       "      <th>13</th>\n",
       "      <td>336</td>\n",
       "      <td>3</td>\n",
       "      <td>14944</td>\n",
       "    </tr>\n",
       "    <tr>\n",
       "      <th>14</th>\n",
       "      <td>4</td>\n",
       "      <td>337</td>\n",
       "      <td>10049</td>\n",
       "    </tr>\n",
       "  </tbody>\n",
       "</table>\n",
       "</div>"
      ],
      "text/plain": [
       "    Node1  Node2  traveldistance\n",
       "8       1      2           18133\n",
       "9       2      1           18133\n",
       "12      3    336           14944\n",
       "13    336      3           14944\n",
       "14      4    337           10049"
      ]
     },
     "execution_count": 11,
     "metadata": {},
     "output_type": "execute_result"
    }
   ],
   "source": [
    "#change index of nodes\n",
    "\n",
    "edges = adjacent_nodes[['Node1','Node2','traveldistance']].copy()\n",
    "\n",
    "v = np.unique(adjacent_nodes['Node1'].values)\n",
    "k = range(1,len(np.unique(adjacent_nodes['Node1'].values))+1)\n",
    "key_val = np.zeros((len(np.unique(adjacent_nodes['Node1'].values)),2))\n",
    "key_val[:,0] = k\n",
    "key_val[:,1] = v\n",
    "index2node = dict(key_val)\n",
    "key_val[:,0] = v\n",
    "key_val[:,1] = k\n",
    "node2index = dict(key_val)\n",
    "edges['Node1'].replace(node2index, inplace=True)\n",
    "edges['Node2'].replace(node2index, inplace=True)\n",
    "edges = edges.astype(np.int)\n",
    "edges.head()"
   ]
  },
  {
   "cell_type": "code",
   "execution_count": 16,
   "metadata": {},
   "outputs": [],
   "source": [
    "from math import inf\n",
    "from itertools import product\n",
    "# n is nodes number\n",
    "\n",
    "def floyd(n, edge):\n",
    "    nodes_number = range(n)\n",
    "    \n",
    "    distance = [[inf] * n for i in nodes_number]\n",
    "    interface  = [[0]   * n for i in nodes_number]\n",
    "    \n",
    "    for i in nodes_number:\n",
    "        distance[i][i] = 0\n",
    "        \n",
    "    for u, v, w in edge:\n",
    "        distance[u-1][v-1] = w\n",
    "        interface[u-1][v-1] = v-1\n",
    "        \n",
    "    for k, i, j in product(nodes_number, repeat=3):\n",
    "        sum_distance = distance[i][k] + distance[k][j]\n",
    "        \n",
    "        if distance[i][j] > sum_distance:\n",
    "            distance[i][j] = sum_distance\n",
    "            interface[i][j]  = interface[i][k]      \n",
    "            \n",
    "    return distance,interface"
   ]
  },
  {
   "cell_type": "code",
   "execution_count": 17,
   "metadata": {},
   "outputs": [],
   "source": [
    "[distance_mat,interface_mat]=floyd(len(treshhold_info), list(edges.values))"
   ]
  },
  {
   "cell_type": "code",
   "execution_count": 18,
   "metadata": {},
   "outputs": [
    {
     "data": {
      "text/plain": [
       "[5, 2, 59]"
      ]
     },
     "execution_count": 18,
     "metadata": {},
     "output_type": "execute_result"
    }
   ],
   "source": [
    "#find indexes of input nodes\n",
    "node_new_index=[node2index[x].astype(np.int) for x in input_nodes]\n",
    "node_new_index"
   ]
  },
  {
   "cell_type": "code",
   "execution_count": 19,
   "metadata": {},
   "outputs": [
    {
     "data": {
      "text/plain": [
       "600"
      ]
     },
     "execution_count": 19,
     "metadata": {},
     "output_type": "execute_result"
    }
   ],
   "source": [
    "len(distance_mat)"
   ]
  },
  {
   "cell_type": "code",
   "execution_count": 20,
   "metadata": {},
   "outputs": [],
   "source": [
    "# find shortest path between pair of nodes\n",
    "min_dist=len(distance_data) # giving a big number to min\n",
    "\n",
    "for i, j in product(node_new_index, repeat=2):\n",
    "    if i != j:\n",
    "        path = [i]  \n",
    "        while path[-1] != j:\n",
    "            path.append(interface_mat[path[-1]][j])\n",
    "        if distance_mat[i][j]<min_dist:\n",
    "            min_dist=distance_mat[i][j]\n",
    "            first_node=i\n",
    "            sum_dist=0\n",
    "            \n",
    "shortest_path={} # between nodes\n",
    "\n",
    "while len(node_new_index)>1: \n",
    "    min_dist=len(distance_data)\n",
    "    for i in range(len(node_new_index)):\n",
    "        if first_node != node_new_index[i]:\n",
    "            if distance_mat[first_node][node_new_index[i]]<min_dist:\n",
    "                min_dist=distance_mat[first_node][node_new_index[i]]\n",
    "                next_node=node_new_index[i]\n",
    "                \n",
    "    path = [first_node]  \n",
    "    while path[-1] != next_node:\n",
    "        path.append(interface_mat[path[-1]][next_node])\n",
    "        \n",
    "    node_new_index.remove(first_node) #remove the node we are in\n",
    "    \n",
    "    first_node=next_node\n",
    "    for node in path:\n",
    "        if node==0:\n",
    "            path.remove(node)\n",
    "    shortest_path[min_dist]=path"
   ]
  },
  {
   "cell_type": "code",
   "execution_count": 22,
   "metadata": {},
   "outputs": [],
   "source": [
    "path_route = []\n",
    "total_dist = 0\n",
    "for i in shortest_path:\n",
    "        path_route += shortest_path[i][:-1]\n",
    "        total_dist += i\n",
    "path_route.append(path[-1])"
   ]
  },
  {
   "cell_type": "code",
   "execution_count": 23,
   "metadata": {},
   "outputs": [
    {
     "name": "stdout",
     "output_type": "stream",
     "text": [
      "6 → 1050375 → 2245 → 1050303 → 1050304 → 2646 → 2156 → 1050305 → 1050307 → 2158 → 33 → 1048601 → 1048584 → 51 → 1050718 → 47 → 1048614 → 2471 → 1048613 → 46 → 45 → 68 → 1048631 → 1048634 → 1048632 → 1048633 → 1048652 → 100 → 1048652 → 1048633 → 1048632 → 1048634 → 1048631 → 68 → 45 → 46 → 1048613 → 2471 → 1048614 → 47 → 1050718 → 51 → 1048584 → 1048601 → 33 → 2158 → 1050307 → 1050305 → 2156 → 2646 → 1050304 → 1050303 → 2245 → 1050375 → 6 → 567784 → 5 → 1050367 → 2237 → 1050368 → 2236 → 2228 → 2229 → 1050366 → 2233 → 2234 → 2230 → 1050354 → 1050349 → 2213 → 1050347 → 2204 → 1050344 → 2219 → 2223 → 2222 → 1050376 → 1050379 → 2252 → 1050359 → 2225 → 2226 → 2644 → 2254 → 9 → 1048583 → 10\n"
     ]
    }
   ],
   "source": [
    "path_nodes=[index2node[x].astype(np.int) for x in path_route]\n",
    "print(' → '.join(str(p) for p in path_nodes))"
   ]
  },
  {
   "cell_type": "markdown",
   "metadata": {},
   "source": [
    "# 3"
   ]
  },
  {
   "cell_type": "markdown",
   "metadata": {},
   "source": [
    "## 3.1 Data collection"
   ]
  },
  {
   "cell_type": "markdown",
   "metadata": {},
   "source": [
    "In this point we create datasets starting from the file we download "
   ]
  },
  {
   "cell_type": "code",
   "execution_count": 25,
   "metadata": {},
   "outputs": [],
   "source": [
    "G=[]\n",
    "features=['Node 1', 'Node 2', 'Distance']\n",
    "with open('C:/Users/lucas/OneDrive/Desktop/ADM-HW5/USA-road-d.CAL.gr', 'r') as f:\n",
    "    for line in f:\n",
    "        if line[0] == 'a':\n",
    "            n1, n2, d= map(int, line[2::].split())\n",
    "            G.append([n1,n2,d])"
   ]
  },
  {
   "cell_type": "code",
   "execution_count": 26,
   "metadata": {},
   "outputs": [],
   "source": [
    "T=[]\n",
    "features=['Node 1', 'Node 2', 'Travel Time']\n",
    "with open('C:/Users/lucas/OneDrive/Desktop/ADM-HW5/USA-road-t.CAL.gr', 'r') as f:\n",
    "    for line in f:\n",
    "        if line[0] == 'a':\n",
    "            n1, n2, d= map(int, line[2::].split())\n",
    "            T.append([n1,n2,d])\n"
   ]
  },
  {
   "cell_type": "code",
   "execution_count": 27,
   "metadata": {},
   "outputs": [],
   "source": [
    "#DICTIONARY OF DISTANCE DATA\n",
    "nodes_neig = dict()  #Dictionary with keys as all nodes and values as a nested list includes a nist with neigbor as element 0 and distance between them as element 1\n",
    "\n",
    "for elm in G:\n",
    "    if elm[0] in nodes_neig:\n",
    "        nodes_neig[elm[0]].append([elm[1],elm[2]])\n",
    "    else:\n",
    "        nodes_neig[elm[0]] = [[elm[1],elm[2]]]"
   ]
  },
  {
   "cell_type": "code",
   "execution_count": 28,
   "metadata": {},
   "outputs": [],
   "source": [
    "#DICTIONARY OF TRAVEL TIME DATA\n",
    "nodes_neig1 = dict()  #Dictionary with keys as all nodes and values as a nested list includes a nist with neigbor as element 0 and distance between them as element 1\n",
    "\n",
    "for elm in T:\n",
    "    if elm[0] in nodes_neig1:\n",
    "        nodes_neig1[elm[0]].append([elm[1],elm[2]])\n",
    "    else:\n",
    "        nodes_neig1[elm[0]] = [[elm[1],elm[2]]]"
   ]
  },
  {
   "cell_type": "code",
   "execution_count": 29,
   "metadata": {},
   "outputs": [
    {
     "name": "stdout",
     "output_type": "stream",
     "text": [
      "[[1048577, 456], [1803, 626]]\n",
      "2\n"
     ]
    }
   ],
   "source": [
    "print(nodes_neig[1])\n",
    "print(len(nodes_neig[1]))"
   ]
  },
  {
   "cell_type": "markdown",
   "metadata": {},
   "source": [
    "## 3.2"
   ]
  },
  {
   "cell_type": "code",
   "execution_count": 30,
   "metadata": {},
   "outputs": [
    {
     "data": {
      "text/plain": [
       "(7, {1: 0, 2: 1, 3: 3, 4: 2, 5: 7})"
      ]
     },
     "execution_count": 30,
     "metadata": {},
     "output_type": "execute_result"
    }
   ],
   "source": [
    "#First example for Dijkstra, which learned from https://en.wikipedia.org/wiki/Dijkstra%27s_algorithm\n",
    "\n",
    "def ShortestOPathTrial(H,lst,G):\n",
    "    visited=[]\n",
    "    lst.insert(0,H)\n",
    "    unvisited=lst\n",
    "    unv=unvisited\n",
    "    sdistance= dict() #dictionary of shortest distances from the selected node H\n",
    "    inf=sys.maxsize\n",
    "    for i in unvisited:\n",
    "        if i==H:\n",
    "            sdistance[i]=0\n",
    "        else:\n",
    "            sdistance[i]=inf\n",
    "    c=0\n",
    "    p=H\n",
    "    for _ in range(len(unvisited)-1):\n",
    "        sdis=list() #distance list\n",
    "        nei=list() #neigbors list\n",
    "        for i in range(len(G[p])):\n",
    "            if G[p][i][0] in unv: \n",
    "                nei.append(G[p][i][0])\n",
    "                sdis.append(G[p][i][1])\n",
    "        for x in range(len(nei)):\n",
    "            if c+sdis[x]<sdistance[nei[x]] and nei[x] in unv:\n",
    "                sdistance[nei[x]]=c+sdis[x]\n",
    "        c+=min(sdis)\n",
    "        unv.remove(p)  #after visiting the neigbor, romoves from the unvisited list\n",
    "        p=nei[sdis.index(min(sdis))] #the new neihbor to look at is the one with the minimum distance\n",
    "    return sdistance[unvisited[-1]], sdistance\n",
    "\n",
    "#Little size example graph\n",
    "H=1\n",
    "lst= [2,3,4,5]\n",
    "G={1:[[3,6],[2,1]],2:[[1,1],[3,2],[4,1]],3:[[1,6],[2,2],[4,2],[5,5]],4:[[2,1],[3,2],[5,5]],5:[[3,5],[4,5]]}\n",
    "ShortestOPathTrial(H,lst,G)\n"
   ]
  },
  {
   "cell_type": "code",
   "execution_count": 33,
   "metadata": {},
   "outputs": [],
   "source": [
    "#Finding the nodes between 2 different nodes\n",
    "def findNodesInBtw(node1, node2):\n",
    "    nset=set()\n",
    "    nq=set()\n",
    "    for t in range(len(nodes_neig[node1])):\n",
    "        nset.add(nodes_neig[node1][t][0])\n",
    "    for j in nset.copy():\n",
    "        if node2 not in nset:\n",
    "               for k in range(len(nodes_neig[j])):\n",
    "                          nq.add(nodes_neig[j][k][0])\n",
    "                          nset=nq\n",
    "        else:\n",
    "            break\n",
    "    for t in range(len(nodes_neig[node2])):\n",
    "        nset.add(nodes_neig[node2][t][0])\n",
    "    return list(nset)\n",
    "\n",
    "\n",
    "def ShortestOPath(H,lst,G,a):\n",
    "    visited=[]\n",
    "    unvisited=lst\n",
    "    unv=unvisited\n",
    "    for jj in unv.copy():  #to update size of the list copy function used\n",
    "        for t in range(len(nodes_neig[jj])):\n",
    "            if nodes_neig[jj][t][0] not in unv:\n",
    "                unv.append(nodes_neig[jj][t][0])\n",
    "    unv=set(unv)\n",
    "    sdistance= dict() #dictionary of shortest distances from the selected node H\n",
    "    inf=sys.maxsize\n",
    "    for i in unv: #initializing the distance dictionary(to the starting node) with 0 if the node is the starting node otheerwise infinity\n",
    "        if i==H:\n",
    "            sdistance[i]=0\n",
    "        else:\n",
    "            sdistance[i]=inf\n",
    "    c=0\n",
    "    p=H\n",
    "    for _ in range(len(unvisited)-1):\n",
    "        visited.insert(len(visited),p)\n",
    "        sdis=list() #distance list\n",
    "        nei=list()  #neighbor list\n",
    "        if p in G.keys():\n",
    "             for i in range(len(G[p])):\n",
    "                if G[p][i][0] in unv: #If the node in needed data dictionary is also in unvisited\n",
    "                    nei.append(G[p][i][0])\n",
    "                    sdis.append(G[p][i][1])\n",
    "        else:\n",
    "            G[p]=nodes_neig[p]\n",
    "            for i in range(len(G[p])):\n",
    "                if G[p][i][0] in unv: \n",
    "                        nei.append(G[p][i][0])\n",
    "                        sdis.append(G[p][i][1])\n",
    "        for x in range(len(nei)):\n",
    "            if c+sdis[x]<sdistance[nei[x]] and nei[x] in unv: #If the path we follow has a total distance smaller than the distance assigned before(to the start node)\n",
    "                sdistance[nei[x]]=c+sdis[x]\n",
    "        c+=min(sdis) #add the min distance to find the total shortest distance to p_n\n",
    "        unv.remove(p) #after visiting the neigbor, romoves from the unvisited list\n",
    "        p=nei[sdis.index(min(sdis))] #the new neihbor to look at is the one with the minimum distance\n",
    "        if sdistance[a]!=inf:\n",
    "            break\n",
    "    return sdistance[a], visited\n"
   ]
  },
  {
   "cell_type": "code",
   "execution_count": 35,
   "metadata": {},
   "outputs": [
    {
     "name": "stdout",
     "output_type": "stream",
     "text": [
      "[1, 1048577, 1767, 1049993, 4, 1048579, 3, 1048579, 4, 1820]\n"
     ]
    }
   ],
   "source": [
    "def mainFunc(start,orderlist): #The Function which finds the path, total distance and all the nodes in the future graph\n",
    "    totaldist=0\n",
    "    orderlist.insert(0,start)\n",
    "    G={}\n",
    "    path=[]\n",
    "    graphNodes=[]\n",
    "    for elm in range(len(orderlist)-1):\n",
    "        nodesInBtw=findNodesInBtw(orderlist[elm], orderlist[elm+1]) \n",
    "        nodesInBtw.insert(len(nodesInBtw),orderlist[elm+1])\n",
    "        for aa in range(len(nodesInBtw)):\n",
    "            graphNodes.append(nodesInBtw[aa])\n",
    "        a=nodesInBtw[-1]\n",
    "        features=['Node 1', 'Node 2', 'Distance']\n",
    "        with open('C:/Users/lucas/OneDrive/Desktop/ADM-HW5/USA-road-d.CAL.gr', 'r') as f:  #Creating a dictionary with data from only needed nodes\n",
    "            for line in f:\n",
    "                if line[0] == 'a':\n",
    "                    n1, n2, d= map(int, line[2::].split())\n",
    "                    if n1 in nodesInBtw:  #For the needed nodes, getting the neigbor and distance info\n",
    "                            if n1 in G.keys(): \n",
    "                                G[n1].append([n2,d])\n",
    "                            else:\n",
    "                                G[n1]=[[n2,d]]\n",
    "        c,b=ShortestOPath(orderlist[elm],nodesInBtw,G,a)\n",
    "        totaldist+=c\n",
    "        for pp in range(len(b)): #add all visited nodes to path\n",
    "            path.append(b[pp])\n",
    "    path.insert(len(path),orderlist[-1]) #lastly add the destination node\n",
    "    return path, totaldist, graphNodes\n",
    "    \n",
    "strt=1\n",
    "plist=[3,4,1820]\n",
    "\n",
    "p,tot, allnodes=mainFunc(strt, plist)\n",
    "print(p) #The shortest path for the required inputs"
   ]
  },
  {
   "cell_type": "code",
   "execution_count": 37,
   "metadata": {},
   "outputs": [
    {
     "data": {
      "text/html": [
       "<div>\n",
       "<style scoped>\n",
       "    .dataframe tbody tr th:only-of-type {\n",
       "        vertical-align: middle;\n",
       "    }\n",
       "\n",
       "    .dataframe tbody tr th {\n",
       "        vertical-align: top;\n",
       "    }\n",
       "\n",
       "    .dataframe thead th {\n",
       "        text-align: right;\n",
       "    }\n",
       "</style>\n",
       "<table border=\"1\" class=\"dataframe\">\n",
       "  <thead>\n",
       "    <tr style=\"text-align: right;\">\n",
       "      <th></th>\n",
       "      <th>node</th>\n",
       "      <th>latitude</th>\n",
       "      <th>longitude</th>\n",
       "    </tr>\n",
       "  </thead>\n",
       "  <tbody>\n",
       "    <tr>\n",
       "      <th>0</th>\n",
       "      <td>1</td>\n",
       "      <td>1048577</td>\n",
       "      <td>456</td>\n",
       "    </tr>\n",
       "    <tr>\n",
       "      <th>1</th>\n",
       "      <td>1048577</td>\n",
       "      <td>1</td>\n",
       "      <td>456</td>\n",
       "    </tr>\n",
       "    <tr>\n",
       "      <th>2</th>\n",
       "      <td>2</td>\n",
       "      <td>1048578</td>\n",
       "      <td>2389</td>\n",
       "    </tr>\n",
       "    <tr>\n",
       "      <th>3</th>\n",
       "      <td>1048578</td>\n",
       "      <td>2</td>\n",
       "      <td>2389</td>\n",
       "    </tr>\n",
       "    <tr>\n",
       "      <th>4</th>\n",
       "      <td>3</td>\n",
       "      <td>1048579</td>\n",
       "      <td>358</td>\n",
       "    </tr>\n",
       "  </tbody>\n",
       "</table>\n",
       "</div>"
      ],
      "text/plain": [
       "      node  latitude  longitude\n",
       "0        1   1048577        456\n",
       "1  1048577         1        456\n",
       "2        2   1048578       2389\n",
       "3  1048578         2       2389\n",
       "4        3   1048579        358"
      ]
     },
     "execution_count": 37,
     "metadata": {},
     "output_type": "execute_result"
    }
   ],
   "source": [
    "## read Coordinate  data and create list        \n",
    "with open('C:/Users/lucas/OneDrive/Desktop/ADM-HW5/USA-road-d.CAL.gr', 'r') as f: \n",
    "    coordinates_data = f.readlines()\n",
    "    \n",
    "#create list      \n",
    "coordinates_data = coordinates_data[7:len(coordinates_data)]\n",
    "coordinates_data = [list(map(int,j[2:-1].split())) for j in coordinates_data]\n",
    "\n",
    "#creat dataframe\n",
    "coordinates_df=pd.DataFrame(coordinates_data, columns= ['node', 'latitude', 'longitude'])\n",
    "coordinates_df.head()"
   ]
  },
  {
   "cell_type": "markdown",
   "metadata": {},
   "source": [
    "## 3.3 Creating the Graph"
   ]
  },
  {
   "cell_type": "code",
   "execution_count": 38,
   "metadata": {},
   "outputs": [
    {
     "name": "stderr",
     "output_type": "stream",
     "text": [
      "C:\\Users\\lucas\\Anaconda3\\lib\\site-packages\\networkx\\drawing\\nx_pylab.py:579: MatplotlibDeprecationWarning: \n",
      "The iterable function was deprecated in Matplotlib 3.1 and will be removed in 3.3. Use np.iterable instead.\n",
      "  if not cb.iterable(width):\n"
     ]
    },
    {
     "data": {
      "image/png": "[encoded data removed]",
      "text/plain": [
       "<Figure size 432x288 with 1 Axes>"
      ]
     },
     "metadata": {},
     "output_type": "display_data"
    },
    {
     "data": {
      "text/plain": [
       "<Figure size 3600x3600 with 0 Axes>"
      ]
     },
     "metadata": {},
     "output_type": "display_data"
    }
   ],
   "source": [
    "G= nx.Graph() #Empty graph\n",
    "for index in allnodes:\n",
    "    G.add_node(index)\n",
    "for k in range(len(allnodes)-1): #Adding edges between the 'between nodes'\n",
    "            e=(allnodes[k],allnodes[k+1])\n",
    "            G.add_edge(*e,color='blue')\n",
    "for idx in range(len(p)-1):  #Trying to add the path route different color nodes\n",
    "    G.add_edge(p[idx],p[idx+1], color='red')\n",
    "\n",
    "color='blue'\n",
    "\n",
    "pos = {}\n",
    "for ind in G.nodes(): #Getting the coordinates of nodes from the coordinates dataframe\n",
    "    a=list(coordinates_df[coordinates_df.node==ind]['longitude'])\n",
    "    b=list(coordinates_df[coordinates_df.node==ind]['latitude'])\n",
    "    pos[ind] = (a[0] , b[0])\n",
    "\n",
    "plt.clf()\n",
    "nx.draw(G, pos=pos,with_labels=True,font_size=9, edge_color=color)\n",
    "plt.figure(10,figsize=(50,50))\n",
    "plt.show()"
   ]
  },
  {
   "cell_type": "code",
   "execution_count": null,
   "metadata": {},
   "outputs": [],
   "source": []
  }
 ],
 "metadata": {
  "kernelspec": {
   "display_name": "Python 3",
   "language": "python",
   "name": "python3"
  },
  "language_info": {
   "codemirror_mode": {
    "name": "ipython",
    "version": 3
   },
   "file_extension": ".py",
   "mimetype": "text/x-python",
   "name": "python",
   "nbconvert_exporter": "python",
   "pygments_lexer": "ipython3",
   "version": "3.7.3"
  }
 },
 "nbformat": 4,
 "nbformat_minor": 2
}
